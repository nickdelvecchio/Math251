{
 "cells": [
  {
   "cell_type": "markdown",
   "metadata": {},
   "source": [
    "# Jupyter notebooks\n",
    "\n",
    "Start with\n",
    "  ipython notebook\n",
    "and navigate with your web browser to 127.0.0.1:8888\n",
    "More documentation is available in \n",
    "  http://ipython.org/notebook.html\n",
    "  http://ipython.org/ipython-doc/stable/install/install.html\n",
    "\n",
    "Alternatively, you can copy any code into a text file, and run it standalone with \n",
    "  python my_file.py"
   ]
  },
  {
   "cell_type": "markdown",
   "metadata": {},
   "source": [
    "# Numpy\n",
    "* Objectives of this file: np basics\n",
    " * Arrays\n",
    " * File I/o\n",
    " \n",
    "## Arrays"
   ]
  },
  {
   "cell_type": "code",
   "execution_count": 1,
   "metadata": {},
   "outputs": [
    {
     "name": "stdout",
     "output_type": "stream",
     "text": [
      "[-5.         -4.65517241 -4.31034483 -3.96551724 -3.62068966 -3.27586207\n",
      " -2.93103448 -2.5862069  -2.24137931 -1.89655172 -1.55172414 -1.20689655\n",
      " -0.86206897 -0.51724138 -0.17241379  0.17241379  0.51724138  0.86206897\n",
      "  1.20689655  1.55172414  1.89655172  2.24137931  2.5862069   2.93103448\n",
      "  3.27586207  3.62068966  3.96551724  4.31034483  4.65517241  5.        ]\n",
      "[ 35.          30.98097503  27.19976219  23.65636147  20.35077289\n",
      "  17.28299643  14.4530321   11.8608799    9.50653983   7.39001189\n",
      "   5.51129608   3.87039239   2.46730083   1.3020214    0.3745541\n",
      "  -0.31510107  -0.76694411  -0.98097503  -0.95719382  -0.69560048\n",
      "  -0.19619501   0.54102259   1.51605232   2.72889417   4.17954816\n",
      "   5.86801427   7.79429251   9.95838288  12.36028537  15.        ]\n"
     ]
    }
   ],
   "source": [
    "# Demonstration 0: Create an array and vectorized arithmetic operations\n",
    "import numpy as np\n",
    "x = np.linspace(-5,5,30) # create 30 points from -5 to 5, uniformly spaced\n",
    "y = x*x - 2*x\n",
    "print x\n",
    "print y"
   ]
  },
  {
   "cell_type": "code",
   "execution_count": 9,
   "metadata": {},
   "outputs": [
    {
     "name": "stdout",
     "output_type": "stream",
     "text": [
      "-3.27586206897\n",
      "[-4.         -3.65517241 -3.31034483 -2.96551724 -2.62068966 -2.27586207\n",
      " -1.93103448 -1.5862069  -1.24137931 -0.89655172 -0.55172414 -0.20689655\n",
      "  0.13793103  0.48275862  0.82758621  1.17241379  1.51724138  1.86206897\n",
      "  2.20689655  2.55172414  2.89655172  3.24137931  3.5862069   3.93103448\n",
      "  4.27586207  4.62068966  4.96551724  5.31034483  5.65517241  6.        ]\n",
      "[30, (30,)]\n",
      "[-5.         -4.65517241 -4.31034483]\n",
      "[-3.96551724 -3.62068966 -3.27586207 -2.93103448]\n",
      "27 30\n"
     ]
    }
   ],
   "source": [
    "# Things you can do with arrays\n",
    "#    - index their elements\n",
    "print x[5]\n",
    "#    - perform arithmetic operations on all elements, without an explicit loop\n",
    "print x+1\n",
    "#    - ask their size\n",
    "print [len(x), x.shape]\n",
    "#    - request parts of an array\n",
    "print x[:3]\n",
    "print x[3:7]\n",
    "z = x[:-3]   # Negative number <=> index n - 1\n",
    "print len(z), len(x)"
   ]
  },
  {
   "cell_type": "code",
   "execution_count": 15,
   "metadata": {},
   "outputs": [
    {
     "name": "stdout",
     "output_type": "stream",
     "text": [
      "[1, 2, 3, 99, 100]\n",
      "[  2   4   6 198 200]\n"
     ]
    }
   ],
   "source": [
    "# Arrays are NOT lists\n",
    "#   - lists:  + becomes CONCATENATION\n",
    "#     arrays: + is element-by-element addition\n",
    "a = [1,2,3]\n",
    "b = [99,100]\n",
    "print a+b\n",
    "# You can convert a list to an array\n",
    "c = np.array(a+b)\n",
    "print c+c  # now + operator is element-by-element addition"
   ]
  },
  {
   "cell_type": "markdown",
   "metadata": {},
   "source": [
    "## File I/o\n",
    "numpy provides tools to load and save ascii arrays"
   ]
  },
  {
   "cell_type": "code",
   "execution_count": 22,
   "metadata": {},
   "outputs": [
    {
     "name": "stdout",
     "output_type": "stream",
     "text": [
      "(30, 2) (30,)\n",
      "(2, 30)\n",
      "[[ -5.          35.        ]\n",
      " [ -4.65517241  30.98097503]\n",
      " [ -4.31034483  27.19976219]\n",
      " [ -3.96551724  23.65636147]\n",
      " [ -3.62068966  20.35077289]\n",
      " [ -3.27586207  17.28299643]\n",
      " [ -2.93103448  14.4530321 ]\n",
      " [ -2.5862069   11.8608799 ]\n",
      " [ -2.24137931   9.50653983]\n",
      " [ -1.89655172   7.39001189]\n",
      " [ -1.55172414   5.51129608]\n",
      " [ -1.20689655   3.87039239]\n",
      " [ -0.86206897   2.46730083]\n",
      " [ -0.51724138   1.3020214 ]\n",
      " [ -0.17241379   0.3745541 ]\n",
      " [  0.17241379  -0.31510107]\n",
      " [  0.51724138  -0.76694411]\n",
      " [  0.86206897  -0.98097503]\n",
      " [  1.20689655  -0.95719382]\n",
      " [  1.55172414  -0.69560048]\n",
      " [  1.89655172  -0.19619501]\n",
      " [  2.24137931   0.54102259]\n",
      " [  2.5862069    1.51605232]\n",
      " [  2.93103448   2.72889417]\n",
      " [  3.27586207   4.17954816]\n",
      " [  3.62068966   5.86801427]\n",
      " [  3.96551724   7.79429251]\n",
      " [  4.31034483   9.95838288]\n",
      " [  4.65517241  12.36028537]\n",
      " [  5.          15.        ]]\n"
     ]
    }
   ],
   "source": [
    "# Horrible, but it works\n",
    "dat = np.array( [x,y]).T\n",
    "#print dat\n",
    "print dat.shape, x.shape\n",
    "dat0 = np.array( [x,y]);\n",
    "print dat0.shape\n",
    "\n",
    "# Less horrible, and you learn something\n",
    "dat = np.zeros( (len(x),2))\n",
    "dat[:,0] =x\n",
    "dat[:,1] =y\n",
    "print dat\n",
    "\n",
    "\n",
    "np.savetxt(\"my-file.dat\", dat)"
   ]
  },
  {
   "cell_type": "code",
   "execution_count": null,
   "metadata": {
    "collapsed": true
   },
   "outputs": [],
   "source": []
  }
 ],
 "metadata": {
  "kernelspec": {
   "display_name": "Python 2",
   "language": "python",
   "name": "python2"
  },
  "language_info": {
   "codemirror_mode": {
    "name": "ipython",
    "version": 2
   },
   "file_extension": ".py",
   "mimetype": "text/x-python",
   "name": "python",
   "nbconvert_exporter": "python",
   "pygments_lexer": "ipython2",
   "version": "2.7.14"
  }
 },
 "nbformat": 4,
 "nbformat_minor": 1
}
