{
 "cells": [
  {
   "cell_type": "code",
   "execution_count": 1,
   "id": "initial_id",
   "metadata": {
    "collapsed": true
   },
   "outputs": [
    {
     "name": "stdout",
     "output_type": "stream",
     "text": [
      "This is a miain file\n"
     ]
    }
   ],
   "source": [
    "import numpy as np\n",
    "import scipy.stats\n",
    "distrib0 = scipy.stats.truncnorm(-3,3,loc=0,scale=1)\n",
    "distrib1 = scipy.stats.uniform(loc=-3,scale=6)\n",
    "\n",
    "print(\"This is a main file\")\n"
   ]
  },
  {
   "cell_type": "code",
   "execution_count": 2,
   "id": "ccd7cb5cae64a63b",
   "metadata": {},
   "outputs": [],
   "source": [
    "# One dimensional example\n",
    "def integrate_me(f, distrib, npts=100):\n",
    "    x = distrib.rvs(npts)\n",
    "    ps = distrib.pdf(x)\n",
    "    f = f(x)\n",
    "    mu = np.mean(f/ps)\n",
    "    err = np.std(f/ps)/np.sqrt(npts)\n",
    "    return mu,err"
   ]
  },
  {
   "cell_type": "code",
   "execution_count": null,
   "id": "41fbbfe3",
   "metadata": {},
   "outputs": [],
   "source": [
    "# Example of 2d distribution object\n",
    "class MyTwoDUniform(object):\n",
    "    def __init__(self, bounds=None):\n",
    "        self.bounds =np.array(bounds)\n",
    "    def rvs(self,npts):\n",
    "        my_out = np.empty( (len(self.bounds),npts))\n",
    "        for dim in np.arange(len(self.bounds)):\n",
    "            my_out[dim] = np.random.uniform(low=self.bounds[dim][0], high=self.bounds[dim][1], size=npts)\n",
    "        return my_out.T\n",
    "    def pdf(self,x):\n",
    "        V = np.prod([self.bounds[:,1]- self.bounds[:,0]])\n",
    "        return np.ones(x.shape[0])/V"
   ]
  }
 ],
 "metadata": {
  "kernelspec": {
   "display_name": "Python 3",
   "language": "python",
   "name": "python3"
  },
  "language_info": {
   "codemirror_mode": {
    "name": "ipython",
    "version": 3
   },
   "file_extension": ".py",
   "mimetype": "text/x-python",
   "name": "python",
   "nbconvert_exporter": "python",
   "pygments_lexer": "ipython3",
   "version": "3.12.3"
  }
 },
 "nbformat": 4,
 "nbformat_minor": 5
}
