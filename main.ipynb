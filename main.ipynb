{
 "cells": [
  {
   "cell_type": "code",
   "execution_count": 12,
   "id": "initial_id",
   "metadata": {
    "collapsed": true
   },
   "outputs": [
    {
     "name": "stdout",
     "output_type": "stream",
     "text": [
      "This is a main file\n"
     ]
    }
   ],
   "source": [
    "import numpy as np\n",
    "import scipy.stats\n",
    "distrib0 = scipy.stats.truncnorm(-3,3,loc=0,scale=1) # loc = mean, scale = variance\n",
    "distrib1 = scipy.stats.uniform(loc=-3,scale=6) # a = the lower bound of the range, b = a+b = upper bound\n",
    "\n",
    "print(\"This is a main file\")\n"
   ]
  },
  {
   "cell_type": "code",
   "execution_count": 13,
   "id": "ccd7cb5cae64a63b",
   "metadata": {},
   "outputs": [],
   "source": [
    "# One dimensional example\n",
    "def integrate_me(f, distrib, npts=100):\n",
    "    x = distrib.rvs(npts)\n",
    "    ps = distrib.pdf(x)\n",
    "    f = f(x)\n",
    "    mu = np.mean(f/ps)\n",
    "    err = np.std(f/ps)/np.sqrt(npts)\n",
    "    return mu,err"
   ]
  },
  {
   "cell_type": "code",
   "execution_count": 14,
   "id": "41fbbfe3",
   "metadata": {},
   "outputs": [],
   "source": [
    "# Example of 2d distribution object\n",
    "class MyTwoDUniform(object):\n",
    "    def __init__(self, bounds=None):\n",
    "        self.bounds =np.array(bounds)\n",
    "    def rvs(self,npts):\n",
    "        my_out = np.empty( (len(self.bounds),npts))\n",
    "        for dim in np.arange(len(self.bounds)):\n",
    "            my_out[dim] = np.random.uniform(low=self.bounds[dim][0], high=self.bounds[dim][1], size=npts)\n",
    "        return my_out.T\n",
    "    def pdf(self,x):\n",
    "        V = np.prod([self.bounds[:,1]- self.bounds[:,0]])\n",
    "        return np.ones(x.shape[0])/V"
   ]
  },
  {
   "cell_type": "code",
   "execution_count": 15,
   "id": "9154880a",
   "metadata": {},
   "outputs": [
    {
     "data": {
      "text/plain": [
       "(0.42005618406268075, 0.20428017151532737)"
      ]
     },
     "execution_count": 15,
     "metadata": {},
     "output_type": "execute_result"
    }
   ],
   "source": [
    "# Example of integration\n",
    "my2d = MyTwoDUniform(bounds=[[-3,3],[-3,3]])\n",
    "from scipy.stats import multivariate_normal\n",
    "mu = np.array([1,-0.5])\n",
    "cov = np.array([[ 1. , -0.1 ], [-0.1 , 0.05]])\n",
    "def f(x1, x2):\n",
    "    x = np.array([x1, x2]).T\n",
    "    return multivariate_normal.pdf(x, mu, cov)\n",
    "integrate_me(lambda x: f(*(x.T)), my2d)"
   ]
  },
  {
   "cell_type": "code",
   "execution_count": 16,
   "id": "c0a2e1af",
   "metadata": {},
   "outputs": [
    {
     "data": {
      "text/plain": [
       "(20.0, 0.0)"
      ]
     },
     "execution_count": 16,
     "metadata": {},
     "output_type": "execute_result"
    }
   ],
   "source": [
    "# Integrates Estimates 0: Uniform 1d\n",
    "distrib2 = scipy.stats.uniform(loc=-10,scale=20)\n",
    "def f_1(x):\n",
    "    return 1\n",
    "integrate_me(f_1,distrib2,10**3)"
   ]
  },
  {
   "cell_type": "code",
   "execution_count": 40,
   "id": "0c5b8deb",
   "metadata": {},
   "outputs": [
    {
     "name": "stdout",
     "output_type": "stream",
     "text": [
      "Integral: 3119.5517 +/- 0.8033\n"
     ]
    }
   ],
   "source": [
    "import numpy as np\n",
    "import scipy.stats as stats\n",
    "import matplotlib.pyplot as plt\n",
    "\n",
    "def rosenbrock(x):\n",
    "    return (1 - x[0])**2 + 100 * (x[1] - x[0]**2)**2\n",
    "\n",
    "def integrate_rosenbrock(n_samples):\n",
    "    # Define the sampling distribution\n",
    "    mean = np.array([1, 1])\n",
    "    cov = np.array([[1, -0.1], [-0.1, 0.05]])\n",
    "    dist = stats.multivariate_normal(mean=mean, cov=cov)\n",
    "\n",
    "    # Define the truncated normal distribution\n",
    "    lower = -3\n",
    "    upper = 3\n",
    "    trunc_dist = stats.truncnorm(a=(lower - mean[0]) / np.sqrt(cov[0, 0]),\n",
    "                                 b=(upper - mean[0]) / np.sqrt(cov[0, 0]),\n",
    "                                 loc=mean[0], scale=np.sqrt(cov[0, 0]))\n",
    "\n",
    "    # Generate samples from the truncated normal distribution\n",
    "    samples = np.zeros((n_samples, 2))\n",
    "    for i in range(n_samples):\n",
    "        x = trunc_dist.rvs()\n",
    "        y = dist.rvs()[1]\n",
    "        samples[i] = np.array([x, y])\n",
    "\n",
    "    # Evaluate the Rosenbrock function at the samples\n",
    "    f_samples = rosenbrock(samples)\n",
    "\n",
    "    # Estimate the integral\n",
    "    integral = np.mean(f_samples) * (upper - lower) ** 2\n",
    "    error = np.std(f_samples) / np.sqrt(n_samples)\n",
    "\n",
    "    return integral, error\n",
    "\n",
    "n_samples = 10**4\n",
    "integral, error = integrate_rosenbrock(n_samples)\n",
    "print(f\"Integral: {integral:.4f} +/- {error:.4f}\")"
   ]
  },
  {
   "cell_type": "code",
   "execution_count": 44,
   "id": "02a9c78b",
   "metadata": {},
   "outputs": [
    {
     "name": "stdout",
     "output_type": "stream",
     "text": [
      "Integral: 2701.2719 +/- 0.6876\n"
     ]
    }
   ],
   "source": [
    "import numpy as np\n",
    "import scipy.stats as stats\n",
    "import matplotlib.pyplot as plt\n",
    "\n",
    "def rosenbrock(x):\n",
    "    return (1 - x[0])**2 + 100 * (x[1] - x[0]**2)**2\n",
    "\n",
    "def integrate_rosenbrock(n_samples):\n",
    "    # Define the sampling distribution\n",
    "    mean = np.array([1, 1])\n",
    "    cov = np.array([[0.1, 0], [0, 0.1]])\n",
    "    dist = stats.multivariate_normal(mean=mean, cov=cov)\n",
    "\n",
    "    # Define the truncated normal distribution\n",
    "    lower = -3\n",
    "    upper = 3\n",
    "    trunc_dist = stats.truncnorm(a=(lower - mean[0]) / np.sqrt(cov[0, 0]),\n",
    "                                 b=(upper - mean[0]) / np.sqrt(cov[0, 0]),\n",
    "                                 loc=mean[0], scale=np.sqrt(cov[0, 0]))\n",
    "\n",
    "    # Generate samples from the truncated normal distribution\n",
    "    samples = np.zeros((n_samples, 2))\n",
    "    for i in range(n_samples):\n",
    "        x = trunc_dist.rvs()\n",
    "        y = dist.rvs()[1]\n",
    "        samples[i] = np.array([x, y])\n",
    "\n",
    "    # Evaluate the Rosenbrock function at the samples\n",
    "    f_samples = rosenbrock(samples)\n",
    "\n",
    "    # Estimate the integral\n",
    "    integral = np.mean(f_samples) * (upper - lower) ** 2\n",
    "    error = np.std(f_samples) / np.sqrt(n_samples)\n",
    "\n",
    "    return integral, error\n",
    "\n",
    "n_samples = 10**4\n",
    "integral, error = integrate_rosenbrock(n_samples)\n",
    "print(f\"Integral: {integral:.4f} +/- {error:.4f}\")"
   ]
  },
  {
   "cell_type": "code",
   "execution_count": 36,
   "id": "cea6f735",
   "metadata": {},
   "outputs": [
    {
     "ename": "TypeError",
     "evalue": "Input z must be at least a (2, 2) shaped array, but has shape (10000, 1)",
     "output_type": "error",
     "traceback": [
      "\u001b[1;31m---------------------------------------------------------------------------\u001b[0m",
      "\u001b[1;31mTypeError\u001b[0m                                 Traceback (most recent call last)",
      "Cell \u001b[1;32mIn[36], line 44\u001b[0m\n\u001b[0;32m     41\u001b[0m     plt\u001b[38;5;241m.\u001b[39mshow()\n\u001b[0;32m     43\u001b[0m n_samples \u001b[38;5;241m=\u001b[39m \u001b[38;5;241m10\u001b[39m\u001b[38;5;241m*\u001b[39m\u001b[38;5;241m*\u001b[39m\u001b[38;5;241m4\u001b[39m\n\u001b[1;32m---> 44\u001b[0m \u001b[43mintegrate_rosenbrock\u001b[49m\u001b[43m(\u001b[49m\u001b[43mn_samples\u001b[49m\u001b[43m)\u001b[49m\n",
      "Cell \u001b[1;32mIn[36], line 29\u001b[0m, in \u001b[0;36mintegrate_rosenbrock\u001b[1;34m(n_samples)\u001b[0m\n\u001b[0;32m     26\u001b[0m     samples[i] \u001b[38;5;241m=\u001b[39m np\u001b[38;5;241m.\u001b[39marray([x, y])\n\u001b[0;32m     28\u001b[0m \u001b[38;5;66;03m# Plot the truncated normal distribution\u001b[39;00m\n\u001b[1;32m---> 29\u001b[0m \u001b[43mplt\u001b[49m\u001b[38;5;241;43m.\u001b[39;49m\u001b[43mcontourf\u001b[49m\u001b[43m(\u001b[49m\u001b[43msamples\u001b[49m\u001b[43m[\u001b[49m\u001b[43m:\u001b[49m\u001b[43m,\u001b[49m\u001b[43m \u001b[49m\u001b[38;5;241;43m0\u001b[39;49m\u001b[43m]\u001b[49m\u001b[38;5;241;43m.\u001b[39;49m\u001b[43mreshape\u001b[49m\u001b[43m(\u001b[49m\u001b[38;5;241;43m-\u001b[39;49m\u001b[38;5;241;43m1\u001b[39;49m\u001b[43m,\u001b[49m\u001b[43m \u001b[49m\u001b[38;5;241;43m1\u001b[39;49m\u001b[43m)\u001b[49m\u001b[43m,\u001b[49m\u001b[43m \u001b[49m\u001b[43msamples\u001b[49m\u001b[43m[\u001b[49m\u001b[43m:\u001b[49m\u001b[43m,\u001b[49m\u001b[43m \u001b[49m\u001b[38;5;241;43m1\u001b[39;49m\u001b[43m]\u001b[49m\u001b[38;5;241;43m.\u001b[39;49m\u001b[43mreshape\u001b[49m\u001b[43m(\u001b[49m\u001b[38;5;241;43m-\u001b[39;49m\u001b[38;5;241;43m1\u001b[39;49m\u001b[43m,\u001b[49m\u001b[43m \u001b[49m\u001b[38;5;241;43m1\u001b[39;49m\u001b[43m)\u001b[49m\u001b[43m,\u001b[49m\u001b[43m \u001b[49m\u001b[43mnp\u001b[49m\u001b[38;5;241;43m.\u001b[39;49m\u001b[43mzeros\u001b[49m\u001b[43m(\u001b[49m\u001b[43m(\u001b[49m\u001b[43mn_samples\u001b[49m\u001b[43m,\u001b[49m\u001b[43m \u001b[49m\u001b[38;5;241;43m1\u001b[39;49m\u001b[43m)\u001b[49m\u001b[43m)\u001b[49m\u001b[43m,\u001b[49m\u001b[43m \u001b[49m\u001b[43malpha\u001b[49m\u001b[38;5;241;43m=\u001b[39;49m\u001b[38;5;241;43m0.5\u001b[39;49m\u001b[43m)\u001b[49m\n\u001b[0;32m     30\u001b[0m plt\u001b[38;5;241m.\u001b[39mcolorbar()\n\u001b[0;32m     32\u001b[0m \u001b[38;5;66;03m# Plot the Rosenbrock function\u001b[39;00m\n",
      "File \u001b[1;32mc:\\Users\\njrde\\AppData\\Local\\Programs\\Python\\Python312\\Lib\\site-packages\\matplotlib\\pyplot.py:2950\u001b[0m, in \u001b[0;36mcontourf\u001b[1;34m(data, *args, **kwargs)\u001b[0m\n\u001b[0;32m   2948\u001b[0m \u001b[38;5;129m@_copy_docstring_and_deprecators\u001b[39m(Axes\u001b[38;5;241m.\u001b[39mcontourf)\n\u001b[0;32m   2949\u001b[0m \u001b[38;5;28;01mdef\u001b[39;00m \u001b[38;5;21mcontourf\u001b[39m(\u001b[38;5;241m*\u001b[39margs, data\u001b[38;5;241m=\u001b[39m\u001b[38;5;28;01mNone\u001b[39;00m, \u001b[38;5;241m*\u001b[39m\u001b[38;5;241m*\u001b[39mkwargs) \u001b[38;5;241m-\u001b[39m\u001b[38;5;241m>\u001b[39m QuadContourSet:\n\u001b[1;32m-> 2950\u001b[0m     __ret \u001b[38;5;241m=\u001b[39m \u001b[43mgca\u001b[49m\u001b[43m(\u001b[49m\u001b[43m)\u001b[49m\u001b[38;5;241;43m.\u001b[39;49m\u001b[43mcontourf\u001b[49m\u001b[43m(\u001b[49m\n\u001b[0;32m   2951\u001b[0m \u001b[43m        \u001b[49m\u001b[38;5;241;43m*\u001b[39;49m\u001b[43margs\u001b[49m\u001b[43m,\u001b[49m\u001b[43m \u001b[49m\u001b[38;5;241;43m*\u001b[39;49m\u001b[38;5;241;43m*\u001b[39;49m\u001b[43m(\u001b[49m\u001b[43m{\u001b[49m\u001b[38;5;124;43m\"\u001b[39;49m\u001b[38;5;124;43mdata\u001b[39;49m\u001b[38;5;124;43m\"\u001b[39;49m\u001b[43m:\u001b[49m\u001b[43m \u001b[49m\u001b[43mdata\u001b[49m\u001b[43m}\u001b[49m\u001b[43m \u001b[49m\u001b[38;5;28;43;01mif\u001b[39;49;00m\u001b[43m \u001b[49m\u001b[43mdata\u001b[49m\u001b[43m \u001b[49m\u001b[38;5;129;43;01mis\u001b[39;49;00m\u001b[43m \u001b[49m\u001b[38;5;129;43;01mnot\u001b[39;49;00m\u001b[43m \u001b[49m\u001b[38;5;28;43;01mNone\u001b[39;49;00m\u001b[43m \u001b[49m\u001b[38;5;28;43;01melse\u001b[39;49;00m\u001b[43m \u001b[49m\u001b[43m{\u001b[49m\u001b[43m}\u001b[49m\u001b[43m)\u001b[49m\u001b[43m,\u001b[49m\u001b[43m \u001b[49m\u001b[38;5;241;43m*\u001b[39;49m\u001b[38;5;241;43m*\u001b[39;49m\u001b[43mkwargs\u001b[49m\n\u001b[0;32m   2952\u001b[0m \u001b[43m    \u001b[49m\u001b[43m)\u001b[49m\n\u001b[0;32m   2953\u001b[0m     \u001b[38;5;28;01mif\u001b[39;00m __ret\u001b[38;5;241m.\u001b[39m_A \u001b[38;5;129;01mis\u001b[39;00m \u001b[38;5;129;01mnot\u001b[39;00m \u001b[38;5;28;01mNone\u001b[39;00m:  \u001b[38;5;66;03m# type: ignore[attr-defined]\u001b[39;00m\n\u001b[0;32m   2954\u001b[0m         sci(__ret)\n",
      "File \u001b[1;32mc:\\Users\\njrde\\AppData\\Local\\Programs\\Python\\Python312\\Lib\\site-packages\\matplotlib\\__init__.py:1478\u001b[0m, in \u001b[0;36m_preprocess_data.<locals>.inner\u001b[1;34m(ax, data, *args, **kwargs)\u001b[0m\n\u001b[0;32m   1475\u001b[0m \u001b[38;5;129m@functools\u001b[39m\u001b[38;5;241m.\u001b[39mwraps(func)\n\u001b[0;32m   1476\u001b[0m \u001b[38;5;28;01mdef\u001b[39;00m \u001b[38;5;21minner\u001b[39m(ax, \u001b[38;5;241m*\u001b[39margs, data\u001b[38;5;241m=\u001b[39m\u001b[38;5;28;01mNone\u001b[39;00m, \u001b[38;5;241m*\u001b[39m\u001b[38;5;241m*\u001b[39mkwargs):\n\u001b[0;32m   1477\u001b[0m     \u001b[38;5;28;01mif\u001b[39;00m data \u001b[38;5;129;01mis\u001b[39;00m \u001b[38;5;28;01mNone\u001b[39;00m:\n\u001b[1;32m-> 1478\u001b[0m         \u001b[38;5;28;01mreturn\u001b[39;00m \u001b[43mfunc\u001b[49m\u001b[43m(\u001b[49m\u001b[43max\u001b[49m\u001b[43m,\u001b[49m\u001b[43m \u001b[49m\u001b[38;5;241;43m*\u001b[39;49m\u001b[38;5;28;43mmap\u001b[39;49m\u001b[43m(\u001b[49m\u001b[43msanitize_sequence\u001b[49m\u001b[43m,\u001b[49m\u001b[43m \u001b[49m\u001b[43margs\u001b[49m\u001b[43m)\u001b[49m\u001b[43m,\u001b[49m\u001b[43m \u001b[49m\u001b[38;5;241;43m*\u001b[39;49m\u001b[38;5;241;43m*\u001b[39;49m\u001b[43mkwargs\u001b[49m\u001b[43m)\u001b[49m\n\u001b[0;32m   1480\u001b[0m     bound \u001b[38;5;241m=\u001b[39m new_sig\u001b[38;5;241m.\u001b[39mbind(ax, \u001b[38;5;241m*\u001b[39margs, \u001b[38;5;241m*\u001b[39m\u001b[38;5;241m*\u001b[39mkwargs)\n\u001b[0;32m   1481\u001b[0m     auto_label \u001b[38;5;241m=\u001b[39m (bound\u001b[38;5;241m.\u001b[39marguments\u001b[38;5;241m.\u001b[39mget(label_namer)\n\u001b[0;32m   1482\u001b[0m                   \u001b[38;5;129;01mor\u001b[39;00m bound\u001b[38;5;241m.\u001b[39mkwargs\u001b[38;5;241m.\u001b[39mget(label_namer))\n",
      "File \u001b[1;32mc:\\Users\\njrde\\AppData\\Local\\Programs\\Python\\Python312\\Lib\\site-packages\\matplotlib\\axes\\_axes.py:6536\u001b[0m, in \u001b[0;36mAxes.contourf\u001b[1;34m(self, *args, **kwargs)\u001b[0m\n\u001b[0;32m   6527\u001b[0m \u001b[38;5;250m\u001b[39m\u001b[38;5;124;03m\"\"\"\u001b[39;00m\n\u001b[0;32m   6528\u001b[0m \u001b[38;5;124;03mPlot filled contours.\u001b[39;00m\n\u001b[0;32m   6529\u001b[0m \n\u001b[1;32m   (...)\u001b[0m\n\u001b[0;32m   6533\u001b[0m \u001b[38;5;124;03m%(contour_doc)s\u001b[39;00m\n\u001b[0;32m   6534\u001b[0m \u001b[38;5;124;03m\"\"\"\u001b[39;00m\n\u001b[0;32m   6535\u001b[0m kwargs[\u001b[38;5;124m'\u001b[39m\u001b[38;5;124mfilled\u001b[39m\u001b[38;5;124m'\u001b[39m] \u001b[38;5;241m=\u001b[39m \u001b[38;5;28;01mTrue\u001b[39;00m\n\u001b[1;32m-> 6536\u001b[0m contours \u001b[38;5;241m=\u001b[39m \u001b[43mmcontour\u001b[49m\u001b[38;5;241;43m.\u001b[39;49m\u001b[43mQuadContourSet\u001b[49m\u001b[43m(\u001b[49m\u001b[38;5;28;43mself\u001b[39;49m\u001b[43m,\u001b[49m\u001b[43m \u001b[49m\u001b[38;5;241;43m*\u001b[39;49m\u001b[43margs\u001b[49m\u001b[43m,\u001b[49m\u001b[43m \u001b[49m\u001b[38;5;241;43m*\u001b[39;49m\u001b[38;5;241;43m*\u001b[39;49m\u001b[43mkwargs\u001b[49m\u001b[43m)\u001b[49m\n\u001b[0;32m   6537\u001b[0m \u001b[38;5;28mself\u001b[39m\u001b[38;5;241m.\u001b[39m_request_autoscale_view()\n\u001b[0;32m   6538\u001b[0m \u001b[38;5;28;01mreturn\u001b[39;00m contours\n",
      "File \u001b[1;32mc:\\Users\\njrde\\AppData\\Local\\Programs\\Python\\Python312\\Lib\\site-packages\\matplotlib\\contour.py:858\u001b[0m, in \u001b[0;36mContourSet.__init__\u001b[1;34m(self, ax, levels, filled, linewidths, linestyles, hatches, alpha, origin, extent, cmap, colors, norm, vmin, vmax, extend, antialiased, nchunk, locator, transform, negative_linestyles, clip_path, *args, **kwargs)\u001b[0m\n\u001b[0;32m    854\u001b[0m \u001b[38;5;28;01mif\u001b[39;00m \u001b[38;5;28mself\u001b[39m\u001b[38;5;241m.\u001b[39mnegative_linestyles \u001b[38;5;129;01mis\u001b[39;00m \u001b[38;5;28;01mNone\u001b[39;00m:\n\u001b[0;32m    855\u001b[0m     \u001b[38;5;28mself\u001b[39m\u001b[38;5;241m.\u001b[39mnegative_linestyles \u001b[38;5;241m=\u001b[39m \\\n\u001b[0;32m    856\u001b[0m         mpl\u001b[38;5;241m.\u001b[39mrcParams[\u001b[38;5;124m'\u001b[39m\u001b[38;5;124mcontour.negative_linestyle\u001b[39m\u001b[38;5;124m'\u001b[39m]\n\u001b[1;32m--> 858\u001b[0m kwargs \u001b[38;5;241m=\u001b[39m \u001b[38;5;28;43mself\u001b[39;49m\u001b[38;5;241;43m.\u001b[39;49m\u001b[43m_process_args\u001b[49m\u001b[43m(\u001b[49m\u001b[38;5;241;43m*\u001b[39;49m\u001b[43margs\u001b[49m\u001b[43m,\u001b[49m\u001b[43m \u001b[49m\u001b[38;5;241;43m*\u001b[39;49m\u001b[38;5;241;43m*\u001b[39;49m\u001b[43mkwargs\u001b[49m\u001b[43m)\u001b[49m\n\u001b[0;32m    859\u001b[0m \u001b[38;5;28mself\u001b[39m\u001b[38;5;241m.\u001b[39m_process_levels()\n\u001b[0;32m    861\u001b[0m \u001b[38;5;28mself\u001b[39m\u001b[38;5;241m.\u001b[39m_extend_min \u001b[38;5;241m=\u001b[39m \u001b[38;5;28mself\u001b[39m\u001b[38;5;241m.\u001b[39mextend \u001b[38;5;129;01min\u001b[39;00m [\u001b[38;5;124m'\u001b[39m\u001b[38;5;124mmin\u001b[39m\u001b[38;5;124m'\u001b[39m, \u001b[38;5;124m'\u001b[39m\u001b[38;5;124mboth\u001b[39m\u001b[38;5;124m'\u001b[39m]\n",
      "File \u001b[1;32mc:\\Users\\njrde\\AppData\\Local\\Programs\\Python\\Python312\\Lib\\site-packages\\matplotlib\\contour.py:1523\u001b[0m, in \u001b[0;36mQuadContourSet._process_args\u001b[1;34m(self, corner_mask, algorithm, *args, **kwargs)\u001b[0m\n\u001b[0;32m   1520\u001b[0m         corner_mask \u001b[38;5;241m=\u001b[39m mpl\u001b[38;5;241m.\u001b[39mrcParams[\u001b[38;5;124m'\u001b[39m\u001b[38;5;124mcontour.corner_mask\u001b[39m\u001b[38;5;124m'\u001b[39m]\n\u001b[0;32m   1521\u001b[0m \u001b[38;5;28mself\u001b[39m\u001b[38;5;241m.\u001b[39m_corner_mask \u001b[38;5;241m=\u001b[39m corner_mask\n\u001b[1;32m-> 1523\u001b[0m x, y, z \u001b[38;5;241m=\u001b[39m \u001b[38;5;28;43mself\u001b[39;49m\u001b[38;5;241;43m.\u001b[39;49m\u001b[43m_contour_args\u001b[49m\u001b[43m(\u001b[49m\u001b[43margs\u001b[49m\u001b[43m,\u001b[49m\u001b[43m \u001b[49m\u001b[43mkwargs\u001b[49m\u001b[43m)\u001b[49m\n\u001b[0;32m   1525\u001b[0m contour_generator \u001b[38;5;241m=\u001b[39m contourpy\u001b[38;5;241m.\u001b[39mcontour_generator(\n\u001b[0;32m   1526\u001b[0m     x, y, z, name\u001b[38;5;241m=\u001b[39m\u001b[38;5;28mself\u001b[39m\u001b[38;5;241m.\u001b[39m_algorithm, corner_mask\u001b[38;5;241m=\u001b[39m\u001b[38;5;28mself\u001b[39m\u001b[38;5;241m.\u001b[39m_corner_mask,\n\u001b[0;32m   1527\u001b[0m     line_type\u001b[38;5;241m=\u001b[39mcontourpy\u001b[38;5;241m.\u001b[39mLineType\u001b[38;5;241m.\u001b[39mSeparateCode,\n\u001b[0;32m   1528\u001b[0m     fill_type\u001b[38;5;241m=\u001b[39mcontourpy\u001b[38;5;241m.\u001b[39mFillType\u001b[38;5;241m.\u001b[39mOuterCode,\n\u001b[0;32m   1529\u001b[0m     chunk_size\u001b[38;5;241m=\u001b[39m\u001b[38;5;28mself\u001b[39m\u001b[38;5;241m.\u001b[39mnchunk)\n\u001b[0;32m   1531\u001b[0m t \u001b[38;5;241m=\u001b[39m \u001b[38;5;28mself\u001b[39m\u001b[38;5;241m.\u001b[39mget_transform()\n",
      "File \u001b[1;32mc:\\Users\\njrde\\AppData\\Local\\Programs\\Python\\Python312\\Lib\\site-packages\\matplotlib\\contour.py:1563\u001b[0m, in \u001b[0;36mQuadContourSet._contour_args\u001b[1;34m(self, args, kwargs)\u001b[0m\n\u001b[0;32m   1561\u001b[0m \u001b[38;5;28;01melif\u001b[39;00m \u001b[38;5;241m2\u001b[39m \u001b[38;5;241m<\u001b[39m nargs \u001b[38;5;241m<\u001b[39m\u001b[38;5;241m=\u001b[39m \u001b[38;5;241m4\u001b[39m:\n\u001b[0;32m   1562\u001b[0m     x, y, z_orig, \u001b[38;5;241m*\u001b[39margs \u001b[38;5;241m=\u001b[39m args\n\u001b[1;32m-> 1563\u001b[0m     x, y, z \u001b[38;5;241m=\u001b[39m \u001b[38;5;28;43mself\u001b[39;49m\u001b[38;5;241;43m.\u001b[39;49m\u001b[43m_check_xyz\u001b[49m\u001b[43m(\u001b[49m\u001b[43mx\u001b[49m\u001b[43m,\u001b[49m\u001b[43m \u001b[49m\u001b[43my\u001b[49m\u001b[43m,\u001b[49m\u001b[43m \u001b[49m\u001b[43mz_orig\u001b[49m\u001b[43m,\u001b[49m\u001b[43m \u001b[49m\u001b[43mkwargs\u001b[49m\u001b[43m)\u001b[49m\n\u001b[0;32m   1565\u001b[0m \u001b[38;5;28;01melse\u001b[39;00m:\n\u001b[0;32m   1566\u001b[0m     \u001b[38;5;28;01mraise\u001b[39;00m _api\u001b[38;5;241m.\u001b[39mnargs_error(fn, takes\u001b[38;5;241m=\u001b[39m\u001b[38;5;124m\"\u001b[39m\u001b[38;5;124mfrom 1 to 4\u001b[39m\u001b[38;5;124m\"\u001b[39m, given\u001b[38;5;241m=\u001b[39mnargs)\n",
      "File \u001b[1;32mc:\\Users\\njrde\\AppData\\Local\\Programs\\Python\\Python312\\Lib\\site-packages\\matplotlib\\contour.py:1591\u001b[0m, in \u001b[0;36mQuadContourSet._check_xyz\u001b[1;34m(self, x, y, z, kwargs)\u001b[0m\n\u001b[0;32m   1589\u001b[0m     \u001b[38;5;28;01mraise\u001b[39;00m \u001b[38;5;167;01mTypeError\u001b[39;00m(\u001b[38;5;124mf\u001b[39m\u001b[38;5;124m\"\u001b[39m\u001b[38;5;124mInput z must be 2D, not \u001b[39m\u001b[38;5;132;01m{\u001b[39;00mz\u001b[38;5;241m.\u001b[39mndim\u001b[38;5;132;01m}\u001b[39;00m\u001b[38;5;124mD\u001b[39m\u001b[38;5;124m\"\u001b[39m)\n\u001b[0;32m   1590\u001b[0m \u001b[38;5;28;01mif\u001b[39;00m z\u001b[38;5;241m.\u001b[39mshape[\u001b[38;5;241m0\u001b[39m] \u001b[38;5;241m<\u001b[39m \u001b[38;5;241m2\u001b[39m \u001b[38;5;129;01mor\u001b[39;00m z\u001b[38;5;241m.\u001b[39mshape[\u001b[38;5;241m1\u001b[39m] \u001b[38;5;241m<\u001b[39m \u001b[38;5;241m2\u001b[39m:\n\u001b[1;32m-> 1591\u001b[0m     \u001b[38;5;28;01mraise\u001b[39;00m \u001b[38;5;167;01mTypeError\u001b[39;00m(\u001b[38;5;124mf\u001b[39m\u001b[38;5;124m\"\u001b[39m\u001b[38;5;124mInput z must be at least a (2, 2) shaped array, \u001b[39m\u001b[38;5;124m\"\u001b[39m\n\u001b[0;32m   1592\u001b[0m                     \u001b[38;5;124mf\u001b[39m\u001b[38;5;124m\"\u001b[39m\u001b[38;5;124mbut has shape \u001b[39m\u001b[38;5;132;01m{\u001b[39;00mz\u001b[38;5;241m.\u001b[39mshape\u001b[38;5;132;01m}\u001b[39;00m\u001b[38;5;124m\"\u001b[39m)\n\u001b[0;32m   1593\u001b[0m Ny, Nx \u001b[38;5;241m=\u001b[39m z\u001b[38;5;241m.\u001b[39mshape\n\u001b[0;32m   1595\u001b[0m \u001b[38;5;28;01mif\u001b[39;00m x\u001b[38;5;241m.\u001b[39mndim \u001b[38;5;241m!=\u001b[39m y\u001b[38;5;241m.\u001b[39mndim:\n",
      "\u001b[1;31mTypeError\u001b[0m: Input z must be at least a (2, 2) shaped array, but has shape (10000, 1)"
     ]
    },
    {
     "data": {
      "image/png": "[encoded data removed]",
      "text/plain": [
       "<Figure size 640x480 with 1 Axes>"
      ]
     },
     "metadata": {},
     "output_type": "display_data"
    }
   ],
   "source": [
    "#Extra credit 1\n",
    "import numpy as np\n",
    "import scipy.stats as stats\n",
    "import matplotlib.pyplot as plt\n",
    "\n",
    "def rosenbrock(x):\n",
    "    return (1 - x[0])**2 + 100 * (x[1] - x[0]**2)**2\n",
    "\n",
    "def integrate_rosenbrock(n_samples):\n",
    "    # Define the sampling distribution\n",
    "    mean = np.array([1, 1])\n",
    "    cov = np.array([[1, -0.1], [-0.1, 0.05]])\n",
    "    dist = stats.multivariate_normal(mean=mean, cov=cov)\n",
    "\n",
    "    # Define the truncated normal distribution\n",
    "    lower = -3\n",
    "    upper = 3\n",
    "    trunc_dist = stats.truncnorm(a=(lower - mean[0]) / np.sqrt(cov[0, 0]),\n",
    "                                 b=(upper - mean[0]) / np.sqrt(cov[0, 0]),\n",
    "                                 loc=mean[0], scale=np.sqrt(cov[0, 0]))\n",
    "\n",
    "    # Generate samples from the truncated normal distribution\n",
    "    samples = np.zeros((n_samples, 2))\n",
    "    for i in range(n_samples):\n",
    "        x = trunc_dist.rvs()\n",
    "        y = dist.rvs()[1]\n",
    "        samples[i] = np.array([x, y])\n",
    "\n",
    "    # Plot the truncated normal distribution\n",
    "    plt.contourf(samples[:, 0].reshape(-1, 1), samples[:, 1].reshape(-1, 1), np.zeros((n_samples, 1)), alpha=0.5)\n",
    "    plt.colorbar()\n",
    "\n",
    "    # Plot the Rosenbrock function\n",
    "    x = np.linspace(-3, 3, 100)\n",
    "    y = np.linspace(-3, 3, 100)\n",
    "    X, Y = np.meshgrid(x, y)\n",
    "    Z = rosenbrock(np.array([X, Y]).reshape(-1, 2))\n",
    "    plt.contour(X, Y, Z.reshape(100, 100), levels=np.logspace(-2, 2, 20))\n",
    "\n",
    "    plt.xlabel(\"x\")\n",
    "    plt.ylabel(\"y\")\n",
    "    plt.show()\n",
    "\n",
    "n_samples = 10**4\n",
    "integrate_rosenbrock(n_samples)"
   ]
  },
  {
   "cell_type": "code",
   "execution_count": 24,
   "id": "3a99ad2a",
   "metadata": {},
   "outputs": [
    {
     "name": "stdout",
     "output_type": "stream",
     "text": [
      "Problem 1:\n",
      "Estimate: 1010532601381.1643, Error: 1.0105e+12\n",
      "\n",
      "Problem 2:\n",
      "Estimate: 6400000.0000, Error: 6.4000e+06\n",
      "\n",
      "Problem 3:\n",
      "Estimate: 0.0000, Error: 5.4667e-01\n",
      "\n",
      "Problem 4:\n",
      "Estimate: 0.0000, Error: 3.1250e-02\n"
     ]
    }
   ],
   "source": [
    "#Extra credit\n",
    "import numpy as np\n",
    "import scipy.stats as stats\n",
    "\n",
    "def problem1(d, n_samples=1e6):\n",
    "    # Sampling distribution is multivariate normal with mean 0 and identity covariance matrix\n",
    "    dist = stats.multivariate_normal(mean=np.zeros(d), cov=np.eye(d))\n",
    "    samples = dist.rvs(size=(int(n_samples), d))\n",
    "    integral_estimate = (2 * np.pi)**(-d/2) * n_samples / (np.prod(dist.cov) + 1e-8)\n",
    "    integral_error = np.abs(integral_estimate - 1)\n",
    "    return integral_estimate, integral_error\n",
    "\n",
    "def problem2(d, n_samples=1e6):\n",
    "    # Sampling distribution is uniform over the hypercube [1, 1]^d\n",
    "    dist = stats.uniform(loc=1, scale=0)\n",
    "    samples = dist.rvs(size=int(n_samples))\n",
    "    integral_estimate = 2**d * n_samples / d\n",
    "    integral_error = np.abs(integral_estimate - 1)\n",
    "    return integral_estimate, integral_error\n",
    "\n",
    "def problem3(d, n_samples=1e6):\n",
    "    # Sampling distribution is uniform over the hypercube [0, 1]^d\n",
    "    dist = stats.uniform(loc=0, scale=1)\n",
    "    samples = dist.rvs(size=int(n_samples))\n",
    "    integral_estimate = np.mean(np.exp(-np.sum(samples**2, axis=None)))\n",
    "    integral_error = np.abs(integral_estimate - np.sqrt(np.pi)**d / 2**d)\n",
    "    return integral_estimate, integral_error\n",
    "\n",
    "def problem4(d, n_samples=1e6):\n",
    "    # Sampling distribution is uniform over the hypercube [0, 1]^d\n",
    "    dist = stats.uniform(loc=0, scale=1)\n",
    "    samples = dist.rvs(size=int(n_samples))\n",
    "    integral_estimate = np.mean(np.prod(samples))\n",
    "    integral_error = np.abs(integral_estimate - 0.5**d)\n",
    "    return integral_estimate, integral_error\n",
    "\n",
    "d = 5  # dimension\n",
    "n_samples = 1e6  # number of samples\n",
    "\n",
    "print(\"Problem 1:\")\n",
    "integral_estimate, integral_error = problem1(d, n_samples)\n",
    "print(f\"Estimate: {integral_estimate:.4f}, Error: {integral_error:.4e}\")\n",
    "\n",
    "print(\"\\nProblem 2:\")\n",
    "integral_estimate, integral_error = problem2(d, n_samples)\n",
    "print(f\"Estimate: {integral_estimate:.4f}, Error: {integral_error:.4e}\")\n",
    "\n",
    "print(\"\\nProblem 3:\")\n",
    "integral_estimate, integral_error = problem3(d, n_samples)\n",
    "print(f\"Estimate: {integral_estimate:.4f}, Error: {integral_error:.4e}\")\n",
    "\n",
    "print(\"\\nProblem 4:\")\n",
    "integral_estimate, integral_error = problem4(d, n_samples)\n",
    "print(f\"Estimate: {integral_estimate:.4f}, Error: {integral_error:.4e}\")"
   ]
  },
  {
   "cell_type": "code",
   "execution_count": null,
   "id": "8b02e1a3",
   "metadata": {},
   "outputs": [],
   "source": []
  }
 ],
 "metadata": {
  "kernelspec": {
   "display_name": "Python 3",
   "language": "python",
   "name": "python3"
  },
  "language_info": {
   "codemirror_mode": {
    "name": "ipython",
    "version": 3
   },
   "file_extension": ".py",
   "mimetype": "text/x-python",
   "name": "python",
   "nbconvert_exporter": "python",
   "pygments_lexer": "ipython3",
   "version": "3.12.3"
  }
 },
 "nbformat": 4,
 "nbformat_minor": 5
}
