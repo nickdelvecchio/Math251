{
 "cells": [
  {
   "cell_type": "code",
   "execution_count": 3,
   "id": "initial_id",
   "metadata": {
    "collapsed": true
   },
   "outputs": [
    {
     "name": "stdout",
     "output_type": "stream",
     "text": [
      "This is a main file\n"
     ]
    }
   ],
   "source": [
    "import numpy as np\n",
    "import scipy.stats\n",
    "distrib0 = scipy.stats.truncnorm(-3,3,loc=0,scale=1) # loc = mean, scale = variance\n",
    "distrib1 = scipy.stats.uniform(loc=-3,scale=6) # a = the lower bound of the range, b = a+b = upper bound\n",
    "\n",
    "print(\"This is a main file\")\n"
   ]
  },
  {
   "cell_type": "code",
   "execution_count": 4,
   "id": "ccd7cb5cae64a63b",
   "metadata": {},
   "outputs": [],
   "source": [
    "# One dimensional example\n",
    "def integrate_me(f, distrib, npts=100):\n",
    "    x = distrib.rvs(npts)\n",
    "    ps = distrib.pdf(x)\n",
    "    f = f(x)\n",
    "    mu = np.mean(f/ps)\n",
    "    err = np.std(f/ps)/np.sqrt(npts)\n",
    "    return mu,err"
   ]
  },
  {
   "cell_type": "code",
   "execution_count": 5,
   "id": "41fbbfe3",
   "metadata": {},
   "outputs": [],
   "source": [
    "# Example of 2d distribution object\n",
    "class MyTwoDUniform(object):\n",
    "    def __init__(self, bounds=None):\n",
    "        self.bounds =np.array(bounds)\n",
    "    def rvs(self,npts):\n",
    "        my_out = np.empty( (len(self.bounds),npts))\n",
    "        for dim in np.arange(len(self.bounds)):\n",
    "            my_out[dim] = np.random.uniform(low=self.bounds[dim][0], high=self.bounds[dim][1], size=npts)\n",
    "        return my_out.T\n",
    "    def pdf(self,x):\n",
    "        V = np.prod([self.bounds[:,1]- self.bounds[:,0]])\n",
    "        return np.ones(x.shape[0])/V"
   ]
  },
  {
   "cell_type": "code",
   "execution_count": 6,
   "id": "9154880a",
   "metadata": {},
   "outputs": [
    {
     "data": {
      "text/plain": [
       "(0.8035724304722368, 0.3672678208989348)"
      ]
     },
     "execution_count": 6,
     "metadata": {},
     "output_type": "execute_result"
    }
   ],
   "source": [
    "# Example of integration\n",
    "my2d = MyTwoDUniform(bounds=[[-3,3],[-3,3]])\n",
    "from scipy.stats import multivariate_normal\n",
    "mu = np.array([1,-0.5])\n",
    "cov = np.array([[ 1. , -0.1 ], [-0.1 , 0.05]])\n",
    "def f(x1, x2):\n",
    "    x = np.array([x1, x2]).T\n",
    "    return multivariate_normal.pdf(x, mu, cov)\n",
    "integrate_me(lambda x: f(*(x.T)), my2d)"
   ]
  },
  {
   "cell_type": "code",
   "execution_count": 15,
   "id": "c0a2e1af",
   "metadata": {},
   "outputs": [
    {
     "data": {
      "text/plain": [
       "(20.0, 0.0)"
      ]
     },
     "execution_count": 15,
     "metadata": {},
     "output_type": "execute_result"
    }
   ],
   "source": [
    "# Integrates Estimates 0: Uniform 1d\n",
    "distrib2 = scipy.stats.uniform(loc=-10,scale=20)\n",
    "def f_1(x):\n",
    "    return 1\n",
    "integrate_me(f_1,distrib2,10**3)"
   ]
  }
 ],
 "metadata": {
  "kernelspec": {
   "display_name": "Python 3",
   "language": "python",
   "name": "python3"
  },
  "language_info": {
   "codemirror_mode": {
    "name": "ipython",
    "version": 3
   },
   "file_extension": ".py",
   "mimetype": "text/x-python",
   "name": "python",
   "nbconvert_exporter": "python",
   "pygments_lexer": "ipython3",
   "version": "3.12.3"
  }
 },
 "nbformat": 4,
 "nbformat_minor": 5
}
