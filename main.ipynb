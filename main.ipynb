{
 "cells": [
  {
   "cell_type": "code",
   "execution_count": null,
   "id": "initial_id",
   "metadata": {
    "collapsed": true
   },
   "outputs": [],
   "source": [
    "import numpy as np\n",
    "import scipy.stats\n",
    "distrib0 = scipy.stats.truncnorm(-3,3,loc=0,scale=1)\n",
    "distrib1 = scipy.stats.uniform(loc=-3,scale=6)\n",
    "\n",
    "print(\"This is a miain file\")\n"
   ]
  },
  {
   "metadata": {},
   "cell_type": "code",
   "outputs": [],
   "execution_count": null,
   "source": [
    "# One dimensional example\n",
    "def integrate_me(f, distrib, npts=100):\n",
    "    x = distrib.rvs(npts)\n",
    "    ps = distrib.pdf(x)\n",
    "    f = f(x)\n",
    "    mu = np.mean(f/ps)\n",
    "    err = np.std(f/ps)/np.sqrt(npts)\n",
    "    return mu,err"
   ],
   "id": "ccd7cb5cae64a63b"
  }
 ],
 "metadata": {
  "kernelspec": {
   "display_name": "Python 3",
   "language": "python",
   "name": "python3"
  },
  "language_info": {
   "codemirror_mode": {
    "name": "ipython",
    "version": 2
   },
   "file_extension": ".py",
   "mimetype": "text/x-python",
   "name": "python",
   "nbconvert_exporter": "python",
   "pygments_lexer": "ipython2",
   "version": "2.7.6"
  }
 },
 "nbformat": 4,
 "nbformat_minor": 5
}
