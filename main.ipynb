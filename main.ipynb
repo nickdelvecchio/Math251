{
 "cells": [
  {
   "cell_type": "code",
   "execution_count": 12,
   "id": "initial_id",
   "metadata": {
    "collapsed": true
   },
   "outputs": [
    {
     "name": "stdout",
     "output_type": "stream",
     "text": [
      "This is a main file\n"
     ]
    }
   ],
   "source": [
    "import numpy as np\n",
    "import scipy.stats\n",
    "distrib0 = scipy.stats.truncnorm(-3,3,loc=0,scale=1) # loc = mean, scale = variance\n",
    "distrib1 = scipy.stats.uniform(loc=-3,scale=6) # a = the lower bound of the range, b = a+b = upper bound\n",
    "\n",
    "print(\"This is a main file\")\n"
   ]
  },
  {
   "cell_type": "code",
   "execution_count": 13,
   "id": "ccd7cb5cae64a63b",
   "metadata": {},
   "outputs": [],
   "source": [
    "# One dimensional example\n",
    "def integrate_me(f, distrib, npts=100):\n",
    "    x = distrib.rvs(npts)\n",
    "    ps = distrib.pdf(x)\n",
    "    f = f(x)\n",
    "    mu = np.mean(f/ps)\n",
    "    err = np.std(f/ps)/np.sqrt(npts)\n",
    "    return mu,err"
   ]
  },
  {
   "cell_type": "code",
   "execution_count": 14,
   "id": "41fbbfe3",
   "metadata": {},
   "outputs": [],
   "source": [
    "# Example of 2d distribution object\n",
    "class MyTwoDUniform(object):\n",
    "    def __init__(self, bounds=None):\n",
    "        self.bounds =np.array(bounds)\n",
    "    def rvs(self,npts):\n",
    "        my_out = np.empty( (len(self.bounds),npts))\n",
    "        for dim in np.arange(len(self.bounds)):\n",
    "            my_out[dim] = np.random.uniform(low=self.bounds[dim][0], high=self.bounds[dim][1], size=npts)\n",
    "        return my_out.T\n",
    "    def pdf(self,x):\n",
    "        V = np.prod([self.bounds[:,1]- self.bounds[:,0]])\n",
    "        return np.ones(x.shape[0])/V"
   ]
  },
  {
   "cell_type": "code",
   "execution_count": 15,
   "id": "9154880a",
   "metadata": {},
   "outputs": [
    {
     "data": {
      "text/plain": [
       "(0.42005618406268075, 0.20428017151532737)"
      ]
     },
     "execution_count": 15,
     "metadata": {},
     "output_type": "execute_result"
    }
   ],
   "source": [
    "# Example of integration\n",
    "my2d = MyTwoDUniform(bounds=[[-3,3],[-3,3]])\n",
    "from scipy.stats import multivariate_normal\n",
    "mu = np.array([1,-0.5])\n",
    "cov = np.array([[ 1. , -0.1 ], [-0.1 , 0.05]])\n",
    "def f(x1, x2):\n",
    "    x = np.array([x1, x2]).T\n",
    "    return multivariate_normal.pdf(x, mu, cov)\n",
    "integrate_me(lambda x: f(*(x.T)), my2d)"
   ]
  },
  {
   "cell_type": "code",
   "execution_count": 16,
   "id": "c0a2e1af",
   "metadata": {},
   "outputs": [
    {
     "data": {
      "text/plain": [
       "(20.0, 0.0)"
      ]
     },
     "execution_count": 16,
     "metadata": {},
     "output_type": "execute_result"
    }
   ],
   "source": [
    "# Integrates Estimates 0: Uniform 1d\n",
    "distrib2 = scipy.stats.uniform(loc=-10,scale=20)\n",
    "def f_1(x):\n",
    "    return 1\n",
    "integrate_me(f_1,distrib2,10**3)"
   ]
  },
  {
   "cell_type": "code",
   "execution_count": 40,
   "id": "0c5b8deb",
   "metadata": {},
   "outputs": [
    {
     "name": "stdout",
     "output_type": "stream",
     "text": [
      "Integral: 3119.5517 +/- 0.8033\n"
     ]
    }
   ],
   "source": [
    "import numpy as np\n",
    "import scipy.stats as stats\n",
    "import matplotlib.pyplot as plt\n",
    "\n",
    "def rosenbrock(x):\n",
    "    return (1 - x[0])**2 + 100 * (x[1] - x[0]**2)**2\n",
    "\n",
    "def integrate_rosenbrock(n_samples):\n",
    "    # Define the sampling distribution\n",
    "    mean = np.array([1, 1])\n",
    "    cov = np.array([[1, -0.1], [-0.1, 0.05]])\n",
    "    dist = stats.multivariate_normal(mean=mean, cov=cov)\n",
    "\n",
    "    # Define the truncated normal distribution\n",
    "    lower = -3\n",
    "    upper = 3\n",
    "    trunc_dist = stats.truncnorm(a=(lower - mean[0]) / np.sqrt(cov[0, 0]),\n",
    "                                 b=(upper - mean[0]) / np.sqrt(cov[0, 0]),\n",
    "                                 loc=mean[0], scale=np.sqrt(cov[0, 0]))\n",
    "\n",
    "    # Generate samples from the truncated normal distribution\n",
    "    samples = np.zeros((n_samples, 2))\n",
    "    for i in range(n_samples):\n",
    "        x = trunc_dist.rvs()\n",
    "        y = dist.rvs()[1]\n",
    "        samples[i] = np.array([x, y])\n",
    "\n",
    "    # Evaluate the Rosenbrock function at the samples\n",
    "    f_samples = rosenbrock(samples)\n",
    "\n",
    "    # Estimate the integral\n",
    "    integral = np.mean(f_samples) * (upper - lower) ** 2\n",
    "    error = np.std(f_samples) / np.sqrt(n_samples)\n",
    "\n",
    "    return integral, error\n",
    "\n",
    "n_samples = 10**4\n",
    "integral, error = integrate_rosenbrock(n_samples)\n",
    "print(f\"Integral: {integral:.4f} +/- {error:.4f}\")"
   ]
  },
  {
   "cell_type": "code",
   "execution_count": 44,
   "id": "02a9c78b",
   "metadata": {},
   "outputs": [
    {
     "name": "stdout",
     "output_type": "stream",
     "text": [
      "Integral: 2701.2719 +/- 0.6876\n"
     ]
    }
   ],
   "source": [
    "import numpy as np\n",
    "import scipy.stats as stats\n",
    "import matplotlib.pyplot as plt\n",
    "\n",
    "def rosenbrock(x):\n",
    "    return (1 - x[0])**2 + 100 * (x[1] - x[0]**2)**2\n",
    "\n",
    "def integrate_rosenbrock(n_samples):\n",
    "    # Define the sampling distribution\n",
    "    mean = np.array([1, 1])\n",
    "    cov = np.array([[0.1, 0], [0, 0.1]])\n",
    "    dist = stats.multivariate_normal(mean=mean, cov=cov)\n",
    "\n",
    "    # Define the truncated normal distribution\n",
    "    lower = -3\n",
    "    upper = 3\n",
    "    trunc_dist = stats.truncnorm(a=(lower - mean[0]) / np.sqrt(cov[0, 0]),\n",
    "                                 b=(upper - mean[0]) / np.sqrt(cov[0, 0]),\n",
    "                                 loc=mean[0], scale=np.sqrt(cov[0, 0]))\n",
    "\n",
    "    # Generate samples from the truncated normal distribution\n",
    "    samples = np.zeros((n_samples, 2))\n",
    "    for i in range(n_samples):\n",
    "        x = trunc_dist.rvs()\n",
    "        y = dist.rvs()[1]\n",
    "        samples[i] = np.array([x, y])\n",
    "\n",
    "    # Evaluate the Rosenbrock function at the samples\n",
    "    f_samples = rosenbrock(samples)\n",
    "\n",
    "    # Estimate the integral\n",
    "    integral = np.mean(f_samples) * (upper - lower) ** 2\n",
    "    error = np.std(f_samples) / np.sqrt(n_samples)\n",
    "\n",
    "    return integral, error\n",
    "\n",
    "n_samples = 10**4\n",
    "integral, error = integrate_rosenbrock(n_samples)\n",
    "print(f\"Integral: {integral:.4f} +/- {error:.4f}\")"
   ]
  },
  {
   "cell_type": "code",
   "execution_count": 47,
   "id": "cea6f735",
   "metadata": {},
   "outputs": [
    {
     "name": "stdout",
     "output_type": "stream",
     "text": [
      "Integral: 755.0512 +/- 0.0523\n"
     ]
    }
   ],
   "source": [
    "# Extra credit 0\n",
    "\n",
    "import numpy as np\n",
    "import scipy.stats as stats\n",
    "import matplotlib.pyplot as plt\n",
    "\n",
    "def rosenbrock(x):\n",
    "    return (1 - x[0])**2 + 100 * (x[1] - x[0]**2)**2\n",
    "\n",
    "def integrate_rosenbrock(n_samples):\n",
    "    # Define the sampling distribution\n",
    "    mean = np.array([1, 1])\n",
    "    cov = np.array([[0.1, 0], [0, 0.1]])\n",
    "    dist = stats.multivariate_normal(mean=mean, cov=cov)\n",
    "\n",
    "    # Define the truncated normal distribution\n",
    "    lower = -3\n",
    "    upper = 3\n",
    "    trunc_dist = stats.truncnorm(a=(lower - mean[0]) / np.sqrt(cov[0, 0]),\n",
    "                                 b=(upper - mean[0]) / np.sqrt(cov[0, 0]),\n",
    "                                 loc=mean[0], scale=np.sqrt(cov[0, 0]))\n",
    "\n",
    "    # Generate samples from the truncated normal distribution\n",
    "    samples = np.zeros((n_samples, 2))\n",
    "    for i in range(n_samples):\n",
    "        x = trunc_dist.rvs()\n",
    "        y = dist.rvs()[1]\n",
    "        samples[i] = np.array([x, y])\n",
    "\n",
    "    # Evaluate the Rosenbrock function at the samples\n",
    "    f_samples = rosenbrock(samples)\n",
    "\n",
    "    # Estimate the integral\n",
    "    integral = np.mean(f_samples) * (upper - lower) ** 2\n",
    "    error = np.std(f_samples) / np.sqrt(n_samples)\n",
    "\n",
    "    return integral, error\n",
    "\n",
    "n_samples = 10**4\n",
    "integral, error = integrate_rosenbrock(n_samples)\n",
    "print(f\"Integral: {integral:.4f} +/- {error:.4f}\")"
   ]
  },
  {
   "cell_type": "code",
   "execution_count": 24,
   "id": "3a99ad2a",
   "metadata": {},
   "outputs": [
    {
     "name": "stdout",
     "output_type": "stream",
     "text": [
      "Problem 1:\n",
      "Estimate: 1010532601381.1643, Error: 1.0105e+12\n",
      "\n",
      "Problem 2:\n",
      "Estimate: 6400000.0000, Error: 6.4000e+06\n",
      "\n",
      "Problem 3:\n",
      "Estimate: 0.0000, Error: 5.4667e-01\n",
      "\n",
      "Problem 4:\n",
      "Estimate: 0.0000, Error: 3.1250e-02\n"
     ]
    }
   ],
   "source": [
    "#Extra credit 1\n",
    "import numpy as np\n",
    "import scipy.stats as stats\n",
    "\n",
    "def problem1(d, n_samples=1e6):\n",
    "    # Sampling distribution is multivariate normal with mean 0 and identity covariance matrix\n",
    "    dist = stats.multivariate_normal(mean=np.zeros(d), cov=np.eye(d))\n",
    "    samples = dist.rvs(size=(int(n_samples), d))\n",
    "    integral_estimate = (2 * np.pi)**(-d/2) * n_samples / (np.prod(dist.cov) + 1e-8)\n",
    "    integral_error = np.abs(integral_estimate - 1)\n",
    "    return integral_estimate, integral_error\n",
    "\n",
    "def problem2(d, n_samples=1e6):\n",
    "    # Sampling distribution is uniform over the hypercube [1, 1]^d\n",
    "    dist = stats.uniform(loc=1, scale=0)\n",
    "    samples = dist.rvs(size=int(n_samples))\n",
    "    integral_estimate = 2**d * n_samples / d\n",
    "    integral_error = np.abs(integral_estimate - 1)\n",
    "    return integral_estimate, integral_error\n",
    "\n",
    "def problem3(d, n_samples=1e6):\n",
    "    # Sampling distribution is uniform over the hypercube [0, 1]^d\n",
    "    dist = stats.uniform(loc=0, scale=1)\n",
    "    samples = dist.rvs(size=int(n_samples))\n",
    "    integral_estimate = np.mean(np.exp(-np.sum(samples**2, axis=None)))\n",
    "    integral_error = np.abs(integral_estimate - np.sqrt(np.pi)**d / 2**d)\n",
    "    return integral_estimate, integral_error\n",
    "\n",
    "def problem4(d, n_samples=1e6):\n",
    "    # Sampling distribution is uniform over the hypercube [0, 1]^d\n",
    "    dist = stats.uniform(loc=0, scale=1)\n",
    "    samples = dist.rvs(size=int(n_samples))\n",
    "    integral_estimate = np.mean(np.prod(samples))\n",
    "    integral_error = np.abs(integral_estimate - 0.5**d)\n",
    "    return integral_estimate, integral_error\n",
    "\n",
    "d = 5  # dimension\n",
    "n_samples = 1e6  # number of samples\n",
    "\n",
    "print(\"Problem 1:\")\n",
    "integral_estimate, integral_error = problem1(d, n_samples)\n",
    "print(f\"Estimate: {integral_estimate:.4f}, Error: {integral_error:.4e}\")\n",
    "\n",
    "print(\"\\nProblem 2:\")\n",
    "integral_estimate, integral_error = problem2(d, n_samples)\n",
    "print(f\"Estimate: {integral_estimate:.4f}, Error: {integral_error:.4e}\")\n",
    "\n",
    "print(\"\\nProblem 3:\")\n",
    "integral_estimate, integral_error = problem3(d, n_samples)\n",
    "print(f\"Estimate: {integral_estimate:.4f}, Error: {integral_error:.4e}\")\n",
    "\n",
    "print(\"\\nProblem 4:\")\n",
    "integral_estimate, integral_error = problem4(d, n_samples)\n",
    "print(f\"Estimate: {integral_estimate:.4f}, Error: {integral_error:.4e}\")"
   ]
  },
  {
   "cell_type": "code",
   "execution_count": null,
   "id": "8b02e1a3",
   "metadata": {},
   "outputs": [],
   "source": []
  }
 ],
 "metadata": {
  "kernelspec": {
   "display_name": "Python 3",
   "language": "python",
   "name": "python3"
  },
  "language_info": {
   "codemirror_mode": {
    "name": "ipython",
    "version": 3
   },
   "file_extension": ".py",
   "mimetype": "text/x-python",
   "name": "python",
   "nbconvert_exporter": "python",
   "pygments_lexer": "ipython3",
   "version": "3.12.3"
  }
 },
 "nbformat": 4,
 "nbformat_minor": 5
}
